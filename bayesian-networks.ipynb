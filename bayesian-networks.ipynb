{
 "cells": [
  {
   "cell_type": "code",
   "execution_count": 1,
   "id": "cf7861c5",
   "metadata": {},
   "outputs": [],
   "source": [
    "import numpy as np\n",
    "import pandas as pd"
   ]
  },
  {
   "cell_type": "markdown",
   "id": "b618ba65",
   "metadata": {},
   "source": [
    "# Generate Data"
   ]
  },
  {
   "cell_type": "markdown",
   "id": "0966394c",
   "metadata": {},
   "source": [
    "### Ground Truth"
   ]
  },
  {
   "cell_type": "code",
   "execution_count": 53,
   "id": "1c08777a",
   "metadata": {},
   "outputs": [],
   "source": [
    "#p(rain)\n",
    "p_rain = 0.2\n",
    "\n",
    "# P(sprinkler | rain)\n",
    "p_sprinkler_rain = 0.01\n",
    "# P(sprinkler | ¬rain)\n",
    "p_sprinkler_norain = 0.4\n",
    "\n",
    "\n",
    "# p(grass is wet | ¬rain & ¬sprinkler)\n",
    "p_grass_norain_nosprinkler = 0.0\n",
    "# p(grass is wet | rain & ¬sprinkler)\n",
    "p_grass_rain_nosprinkler = 0.8\n",
    "# p(grass is wet | ¬rain & sprinkler)\n",
    "p_grass_rain_norain_sprinkler=0.9\n",
    "# p(grass is wet | rain & sprinlker)\n",
    "p_grass_rain_sprinkler=0.99"
   ]
  },
  {
   "cell_type": "code",
   "execution_count": 165,
   "id": "532271f5",
   "metadata": {},
   "outputs": [],
   "source": [
    "n = 10"
   ]
  },
  {
   "cell_type": "code",
   "execution_count": 166,
   "id": "1e9e3406",
   "metadata": {},
   "outputs": [],
   "source": [
    "X = np.zeros((n, 3))"
   ]
  },
  {
   "cell_type": "markdown",
   "id": "001604bd",
   "metadata": {},
   "source": [
    "### Generate Data"
   ]
  },
  {
   "cell_type": "code",
   "execution_count": 167,
   "id": "e19906c3",
   "metadata": {},
   "outputs": [],
   "source": [
    "for i in range(n):\n",
    "    rain = np.random.binomial(n=1, p=p_rain, size=1)[0]\n",
    "    if bool(rain):\n",
    "        sprinkler = np.random.binomial(n=1, p=p_sprinkler_rain, size=1)[0]\n",
    "    else:\n",
    "        sprinkler = np.random.binomial(n=1, p=p_sprinkler_norain, size=1)[0]\n",
    "\n",
    "    if not bool(rain) and not bool(sprinkler):\n",
    "        # p(grass is wet | ¬rain & ¬sprinkler)\n",
    "        wet = np.random.binomial(n=1, p=p_grass_norain_nosprinkler, size=1)[0]\n",
    "    elif bool(rain) and not bool(sprinkler):\n",
    "        # p(grass is wet | rain & ¬sprinkler)\n",
    "        wet = np.random.binomial(n=1, p=p_grass_rain_nosprinkler, size=1)[0]\n",
    "    elif not bool(rain) and bool(sprinkler):\n",
    "        # p(grass is wet | ¬rain & sprinkler)\n",
    "        wet = np.random.binomial(n=1, p=p_grass_rain_norain_sprinkler, size=1)[0]\n",
    "    else:\n",
    "        # p(grass is wet | rain & sprinlker)\n",
    "        wet = np.random.binomial(n=1, p=p_grass_rain_sprinkler, size=1)[0]\n",
    "\n",
    "\n",
    "    X[i, 0] = rain\n",
    "    X[i, 1] = sprinkler\n",
    "    X[i, 2] = wet\n",
    "\n",
    "    \n"
   ]
  },
  {
   "cell_type": "code",
   "execution_count": 168,
   "id": "316f65b8",
   "metadata": {},
   "outputs": [],
   "source": [
    "X = pd.DataFrame(X, columns=['rain', 'sprinkler', 'wet'])"
   ]
  },
  {
   "cell_type": "code",
   "execution_count": 169,
   "id": "e4ce0e2b",
   "metadata": {},
   "outputs": [
    {
     "data": {
      "text/html": [
       "<div>\n",
       "<style scoped>\n",
       "    .dataframe tbody tr th:only-of-type {\n",
       "        vertical-align: middle;\n",
       "    }\n",
       "\n",
       "    .dataframe tbody tr th {\n",
       "        vertical-align: top;\n",
       "    }\n",
       "\n",
       "    .dataframe thead th {\n",
       "        text-align: right;\n",
       "    }\n",
       "</style>\n",
       "<table border=\"1\" class=\"dataframe\">\n",
       "  <thead>\n",
       "    <tr style=\"text-align: right;\">\n",
       "      <th></th>\n",
       "      <th>rain</th>\n",
       "      <th>sprinkler</th>\n",
       "      <th>wet</th>\n",
       "    </tr>\n",
       "  </thead>\n",
       "  <tbody>\n",
       "    <tr>\n",
       "      <th>0</th>\n",
       "      <td>0.0</td>\n",
       "      <td>1.0</td>\n",
       "      <td>1.0</td>\n",
       "    </tr>\n",
       "    <tr>\n",
       "      <th>1</th>\n",
       "      <td>1.0</td>\n",
       "      <td>0.0</td>\n",
       "      <td>1.0</td>\n",
       "    </tr>\n",
       "    <tr>\n",
       "      <th>2</th>\n",
       "      <td>0.0</td>\n",
       "      <td>0.0</td>\n",
       "      <td>0.0</td>\n",
       "    </tr>\n",
       "    <tr>\n",
       "      <th>3</th>\n",
       "      <td>0.0</td>\n",
       "      <td>1.0</td>\n",
       "      <td>1.0</td>\n",
       "    </tr>\n",
       "    <tr>\n",
       "      <th>4</th>\n",
       "      <td>0.0</td>\n",
       "      <td>1.0</td>\n",
       "      <td>1.0</td>\n",
       "    </tr>\n",
       "  </tbody>\n",
       "</table>\n",
       "</div>"
      ],
      "text/plain": [
       "   rain  sprinkler  wet\n",
       "0   0.0        1.0  1.0\n",
       "1   1.0        0.0  1.0\n",
       "2   0.0        0.0  0.0\n",
       "3   0.0        1.0  1.0\n",
       "4   0.0        1.0  1.0"
      ]
     },
     "execution_count": 169,
     "metadata": {},
     "output_type": "execute_result"
    }
   ],
   "source": [
    "X.head()"
   ]
  },
  {
   "cell_type": "markdown",
   "id": "4328b582",
   "metadata": {},
   "source": [
    "# Learning"
   ]
  },
  {
   "cell_type": "markdown",
   "id": "6068db75",
   "metadata": {},
   "source": [
    "## Maximum Likelihood, Analytical Solution"
   ]
  },
  {
   "cell_type": "markdown",
   "id": "fcf1211d",
   "metadata": {},
   "source": [
    "#### p(rain)"
   ]
  },
  {
   "cell_type": "code",
   "execution_count": 170,
   "id": "27994dea",
   "metadata": {},
   "outputs": [
    {
     "data": {
      "text/plain": [
       "0.0    9\n",
       "1.0    1\n",
       "Name: rain, dtype: int64"
      ]
     },
     "execution_count": 170,
     "metadata": {},
     "output_type": "execute_result"
    }
   ],
   "source": [
    "X['rain'].value_counts()"
   ]
  },
  {
   "cell_type": "markdown",
   "id": "d8acebc4",
   "metadata": {},
   "source": [
    "#### P(sprinkler | rain), # P(sprinkler | ¬rain)"
   ]
  },
  {
   "cell_type": "code",
   "execution_count": 171,
   "id": "e7d74baa",
   "metadata": {},
   "outputs": [
    {
     "data": {
      "text/plain": [
       "0.0    0.9\n",
       "1.0    0.1\n",
       "Name: rain, dtype: float64"
      ]
     },
     "execution_count": 171,
     "metadata": {},
     "output_type": "execute_result"
    }
   ],
   "source": [
    "X['rain'].value_counts() / n"
   ]
  },
  {
   "cell_type": "code",
   "execution_count": 172,
   "id": "2706bfa8",
   "metadata": {},
   "outputs": [
    {
     "data": {
      "text/html": [
       "<div>\n",
       "<style scoped>\n",
       "    .dataframe tbody tr th:only-of-type {\n",
       "        vertical-align: middle;\n",
       "    }\n",
       "\n",
       "    .dataframe tbody tr th {\n",
       "        vertical-align: top;\n",
       "    }\n",
       "\n",
       "    .dataframe thead th {\n",
       "        text-align: right;\n",
       "    }\n",
       "</style>\n",
       "<table border=\"1\" class=\"dataframe\">\n",
       "  <thead>\n",
       "    <tr style=\"text-align: right;\">\n",
       "      <th>rain</th>\n",
       "      <th>0.0</th>\n",
       "      <th>1.0</th>\n",
       "    </tr>\n",
       "    <tr>\n",
       "      <th>sprinkler</th>\n",
       "      <th></th>\n",
       "      <th></th>\n",
       "    </tr>\n",
       "  </thead>\n",
       "  <tbody>\n",
       "    <tr>\n",
       "      <th>0.0</th>\n",
       "      <td>0.666667</td>\n",
       "      <td>1.0</td>\n",
       "    </tr>\n",
       "    <tr>\n",
       "      <th>1.0</th>\n",
       "      <td>0.333333</td>\n",
       "      <td>0.0</td>\n",
       "    </tr>\n",
       "  </tbody>\n",
       "</table>\n",
       "</div>"
      ],
      "text/plain": [
       "rain            0.0  1.0\n",
       "sprinkler               \n",
       "0.0        0.666667  1.0\n",
       "1.0        0.333333  0.0"
      ]
     },
     "execution_count": 172,
     "metadata": {},
     "output_type": "execute_result"
    }
   ],
   "source": [
    "pd.crosstab(X['sprinkler'], X[\"rain\"], normalize='columns')"
   ]
  },
  {
   "cell_type": "code",
   "execution_count": 173,
   "id": "288d9e44",
   "metadata": {},
   "outputs": [],
   "source": [
    "counts = pd.pivot_table(data=X, index=['sprinkler', 'rain'], columns='wet', aggfunc=len, fill_value=0)"
   ]
  },
  {
   "cell_type": "markdown",
   "id": "bf5cbe72",
   "metadata": {},
   "source": [
    "#### Grass wet | Sprinkler & Rain"
   ]
  },
  {
   "cell_type": "code",
   "execution_count": 174,
   "id": "2ee18b39",
   "metadata": {},
   "outputs": [],
   "source": [
    "row_sums = counts.sum(axis=1).values.reshape(-1, 1)"
   ]
  },
  {
   "cell_type": "code",
   "execution_count": 175,
   "id": "ec22b202",
   "metadata": {},
   "outputs": [
    {
     "data": {
      "text/html": [
       "<div>\n",
       "<style scoped>\n",
       "    .dataframe tbody tr th:only-of-type {\n",
       "        vertical-align: middle;\n",
       "    }\n",
       "\n",
       "    .dataframe tbody tr th {\n",
       "        vertical-align: top;\n",
       "    }\n",
       "\n",
       "    .dataframe thead th {\n",
       "        text-align: right;\n",
       "    }\n",
       "</style>\n",
       "<table border=\"1\" class=\"dataframe\">\n",
       "  <thead>\n",
       "    <tr style=\"text-align: right;\">\n",
       "      <th></th>\n",
       "      <th>wet</th>\n",
       "      <th>0.0</th>\n",
       "      <th>1.0</th>\n",
       "    </tr>\n",
       "    <tr>\n",
       "      <th>sprinkler</th>\n",
       "      <th>rain</th>\n",
       "      <th></th>\n",
       "      <th></th>\n",
       "    </tr>\n",
       "  </thead>\n",
       "  <tbody>\n",
       "    <tr>\n",
       "      <th rowspan=\"2\" valign=\"top\">0.0</th>\n",
       "      <th>0.0</th>\n",
       "      <td>1.0</td>\n",
       "      <td>0.0</td>\n",
       "    </tr>\n",
       "    <tr>\n",
       "      <th>1.0</th>\n",
       "      <td>0.0</td>\n",
       "      <td>1.0</td>\n",
       "    </tr>\n",
       "    <tr>\n",
       "      <th>1.0</th>\n",
       "      <th>0.0</th>\n",
       "      <td>0.0</td>\n",
       "      <td>1.0</td>\n",
       "    </tr>\n",
       "  </tbody>\n",
       "</table>\n",
       "</div>"
      ],
      "text/plain": [
       "wet             0.0  1.0\n",
       "sprinkler rain          \n",
       "0.0       0.0   1.0  0.0\n",
       "          1.0   0.0  1.0\n",
       "1.0       0.0   0.0  1.0"
      ]
     },
     "execution_count": 175,
     "metadata": {},
     "output_type": "execute_result"
    }
   ],
   "source": [
    "counts / row_sums"
   ]
  },
  {
   "cell_type": "markdown",
   "id": "ef61d479",
   "metadata": {},
   "source": [
    "## MAP - Conjugate Prior\n",
    "\n",
    "Assume a beta-binomial conjugate model\n"
   ]
  },
  {
   "cell_type": "markdown",
   "id": "eb233cbd",
   "metadata": {},
   "source": [
    "### Priors (pseudocounts)"
   ]
  },
  {
   "cell_type": "code",
   "execution_count": 176,
   "id": "d3d0eb5d",
   "metadata": {},
   "outputs": [],
   "source": [
    "#p(rain)\n",
    "prior_rain = np.array([1, 1])\n",
    "\n",
    "# P(sprinkler | rain)\n",
    "prior_sprinkler_rain = np.array([1, 1])\n",
    "# P(sprinkler | ¬rain)\n",
    "prior_sprinkler_norain = np.array([1, 1])\n",
    "\n",
    "\n",
    "# p(grass is wet | ¬rain & ¬sprinkler)\n",
    "prior_grass_norain_nosprinkler = np.array([1,1])\n",
    "# p(grass is wet | rain & ¬sprinkler)\n",
    "prior_grass_rain_nosprinkler = np.array([1,1])\n",
    "# p(grass is wet | ¬rain & sprinkler)\n",
    "prior_grass_rain_norain_sprinkler = np.array([1,1])\n",
    "# p(grass is wet | rain & sprinlker)\n",
    "prior_grass_rain_sprinkler = np.array([1,1])"
   ]
  },
  {
   "cell_type": "markdown",
   "id": "48bf5d30",
   "metadata": {},
   "source": [
    "#### p(rain)"
   ]
  },
  {
   "cell_type": "code",
   "execution_count": 177,
   "id": "eb646bde",
   "metadata": {},
   "outputs": [
    {
     "data": {
      "text/plain": [
       "0.0    9.083333\n",
       "1.0    1.083333\n",
       "Name: rain, dtype: float64"
      ]
     },
     "execution_count": 177,
     "metadata": {},
     "output_type": "execute_result"
    }
   ],
   "source": [
    "\n",
    "X['rain'].value_counts() + prior_rain /  (n + prior_rain.sum())"
   ]
  },
  {
   "cell_type": "code",
   "execution_count": 178,
   "id": "e7ffbe2e",
   "metadata": {},
   "outputs": [
    {
     "data": {
      "text/plain": [
       "array([[1],\n",
       "       [1]])"
      ]
     },
     "execution_count": 178,
     "metadata": {},
     "output_type": "execute_result"
    }
   ],
   "source": [
    "prior_sprinkler_norain.reshape(-1, 1)"
   ]
  },
  {
   "cell_type": "markdown",
   "id": "457a8e75",
   "metadata": {},
   "source": [
    "####  P(sprinkler | rain), # P(sprinkler | ¬rain)\n"
   ]
  },
  {
   "cell_type": "code",
   "execution_count": 179,
   "id": "3f9e38f0",
   "metadata": {},
   "outputs": [],
   "source": [
    "prior_sprinkler = np.concatenate(\n",
    "    [\n",
    "        prior_sprinkler_norain.reshape(-1, 1), \n",
    "        prior_sprinkler_rain.reshape(-1, 1)\n",
    "    ], \n",
    "    axis=1\n",
    ")"
   ]
  },
  {
   "cell_type": "code",
   "execution_count": 180,
   "id": "aa237dce",
   "metadata": {},
   "outputs": [
    {
     "data": {
      "text/plain": [
       "array([[1, 1],\n",
       "       [1, 1]])"
      ]
     },
     "execution_count": 180,
     "metadata": {},
     "output_type": "execute_result"
    }
   ],
   "source": [
    "prior_sprinkler"
   ]
  },
  {
   "cell_type": "code",
   "execution_count": 181,
   "id": "cd6b3b31",
   "metadata": {},
   "outputs": [],
   "source": [
    "posterior = pd.crosstab(X['sprinkler'], X[\"rain\"]) + prior_sprinkler"
   ]
  },
  {
   "cell_type": "code",
   "execution_count": 182,
   "id": "814d3abd",
   "metadata": {},
   "outputs": [
    {
     "data": {
      "text/html": [
       "<div>\n",
       "<style scoped>\n",
       "    .dataframe tbody tr th:only-of-type {\n",
       "        vertical-align: middle;\n",
       "    }\n",
       "\n",
       "    .dataframe tbody tr th {\n",
       "        vertical-align: top;\n",
       "    }\n",
       "\n",
       "    .dataframe thead th {\n",
       "        text-align: right;\n",
       "    }\n",
       "</style>\n",
       "<table border=\"1\" class=\"dataframe\">\n",
       "  <thead>\n",
       "    <tr style=\"text-align: right;\">\n",
       "      <th>rain</th>\n",
       "      <th>0.0</th>\n",
       "      <th>1.0</th>\n",
       "    </tr>\n",
       "    <tr>\n",
       "      <th>sprinkler</th>\n",
       "      <th></th>\n",
       "      <th></th>\n",
       "    </tr>\n",
       "  </thead>\n",
       "  <tbody>\n",
       "    <tr>\n",
       "      <th>0.0</th>\n",
       "      <td>7</td>\n",
       "      <td>2</td>\n",
       "    </tr>\n",
       "    <tr>\n",
       "      <th>1.0</th>\n",
       "      <td>4</td>\n",
       "      <td>1</td>\n",
       "    </tr>\n",
       "  </tbody>\n",
       "</table>\n",
       "</div>"
      ],
      "text/plain": [
       "rain       0.0  1.0\n",
       "sprinkler          \n",
       "0.0          7    2\n",
       "1.0          4    1"
      ]
     },
     "execution_count": 182,
     "metadata": {},
     "output_type": "execute_result"
    }
   ],
   "source": [
    "posterior"
   ]
  },
  {
   "cell_type": "code",
   "execution_count": 183,
   "id": "3f970d97",
   "metadata": {},
   "outputs": [
    {
     "data": {
      "text/html": [
       "<div>\n",
       "<style scoped>\n",
       "    .dataframe tbody tr th:only-of-type {\n",
       "        vertical-align: middle;\n",
       "    }\n",
       "\n",
       "    .dataframe tbody tr th {\n",
       "        vertical-align: top;\n",
       "    }\n",
       "\n",
       "    .dataframe thead th {\n",
       "        text-align: right;\n",
       "    }\n",
       "</style>\n",
       "<table border=\"1\" class=\"dataframe\">\n",
       "  <thead>\n",
       "    <tr style=\"text-align: right;\">\n",
       "      <th>rain</th>\n",
       "      <th>0.0</th>\n",
       "      <th>1.0</th>\n",
       "    </tr>\n",
       "    <tr>\n",
       "      <th>sprinkler</th>\n",
       "      <th></th>\n",
       "      <th></th>\n",
       "    </tr>\n",
       "  </thead>\n",
       "  <tbody>\n",
       "    <tr>\n",
       "      <th>0.0</th>\n",
       "      <td>0.636364</td>\n",
       "      <td>0.666667</td>\n",
       "    </tr>\n",
       "    <tr>\n",
       "      <th>1.0</th>\n",
       "      <td>0.363636</td>\n",
       "      <td>0.333333</td>\n",
       "    </tr>\n",
       "  </tbody>\n",
       "</table>\n",
       "</div>"
      ],
      "text/plain": [
       "rain            0.0       1.0\n",
       "sprinkler                    \n",
       "0.0        0.636364  0.666667\n",
       "1.0        0.363636  0.333333"
      ]
     },
     "execution_count": 183,
     "metadata": {},
     "output_type": "execute_result"
    }
   ],
   "source": [
    "posterior / posterior.sum(axis=0)"
   ]
  },
  {
   "cell_type": "markdown",
   "id": "777aa539",
   "metadata": {},
   "source": [
    "#### Grass wet | Sprinkler & Rain"
   ]
  },
  {
   "cell_type": "code",
   "execution_count": 184,
   "id": "a473770a",
   "metadata": {},
   "outputs": [],
   "source": [
    "counts = pd.pivot_table(data=X, index=['sprinkler', 'rain'], columns='wet', aggfunc=len, fill_value=0)\n",
    "nrows, ncols = counts.shape"
   ]
  },
  {
   "cell_type": "code",
   "execution_count": 185,
   "id": "0920f7e0",
   "metadata": {},
   "outputs": [],
   "source": [
    "prior_wet = np.concatenate(\n",
    "    [\n",
    "        prior_grass_norain_nosprinkler.reshape(1, -1),\n",
    "        prior_grass_rain_nosprinkler.reshape(1, -1),\n",
    "        prior_grass_rain_norain_sprinkler.reshape(1, -1),\n",
    "        prior_grass_rain_sprinkler.reshape(1, -1)\n",
    "        \n",
    "    ],\n",
    "    axis=0\n",
    ")"
   ]
  },
  {
   "cell_type": "code",
   "execution_count": 186,
   "id": "15b51a16",
   "metadata": {},
   "outputs": [
    {
     "data": {
      "text/plain": [
       "array([[1, 1],\n",
       "       [1, 1],\n",
       "       [1, 1],\n",
       "       [1, 1]])"
      ]
     },
     "execution_count": 186,
     "metadata": {},
     "output_type": "execute_result"
    }
   ],
   "source": [
    "prior_wet"
   ]
  },
  {
   "cell_type": "code",
   "execution_count": 187,
   "id": "272883aa",
   "metadata": {},
   "outputs": [],
   "source": [
    "posterior = np.zeros((4, 2))\n",
    "posterior[:nrows, :ncols] = counts.values"
   ]
  },
  {
   "cell_type": "code",
   "execution_count": 188,
   "id": "c1568eac",
   "metadata": {},
   "outputs": [],
   "source": [
    "posterior += prior_wet"
   ]
  },
  {
   "cell_type": "code",
   "execution_count": 189,
   "id": "f853a182",
   "metadata": {},
   "outputs": [],
   "source": [
    "posterior = posterior  / posterior.sum(axis=1).reshape(-1, 1)"
   ]
  },
  {
   "cell_type": "code",
   "execution_count": 190,
   "id": "650d514c",
   "metadata": {},
   "outputs": [
    {
     "data": {
      "text/plain": [
       "array([[0.875     , 0.125     ],\n",
       "       [0.33333333, 0.66666667],\n",
       "       [0.2       , 0.8       ],\n",
       "       [0.5       , 0.5       ]])"
      ]
     },
     "execution_count": 190,
     "metadata": {},
     "output_type": "execute_result"
    }
   ],
   "source": [
    "posterior"
   ]
  },
  {
   "cell_type": "markdown",
   "id": "af87f109",
   "metadata": {},
   "source": [
    "## Numerical Solution - MLE"
   ]
  },
  {
   "cell_type": "code",
   "execution_count": 191,
   "id": "f61334c1",
   "metadata": {},
   "outputs": [],
   "source": [
    "from scipy import optimize\n",
    "import matplotlib.pyplot as plt\n",
    "from scipy.stats import bernoulli"
   ]
  },
  {
   "cell_type": "code",
   "execution_count": 192,
   "id": "25607248",
   "metadata": {},
   "outputs": [],
   "source": [
    "def neg_log_bernoulli(theta, data):\n",
    "    return np.sum(-1*bernoulli.logpmf(data, theta))"
   ]
  },
  {
   "cell_type": "markdown",
   "id": "8a9b172a",
   "metadata": {},
   "source": [
    "#### p(rain)"
   ]
  },
  {
   "cell_type": "code",
   "execution_count": 193,
   "id": "8124bfc1",
   "metadata": {},
   "outputs": [],
   "source": [
    "x_rain=X['rain'].values\n",
    "theta = np.arange(0.01, 1, 0.001)\n",
    "ll = []\n",
    "for t in theta:\n",
    "    ll.append(neg_log_bernoulli(t, x_rain))"
   ]
  },
  {
   "cell_type": "code",
   "execution_count": 194,
   "id": "5cbbfa57",
   "metadata": {},
   "outputs": [
    {
     "data": {
      "image/png": "[encoded data removed]",
      "text/plain": [
       "<Figure size 640x480 with 1 Axes>"
      ]
     },
     "metadata": {},
     "output_type": "display_data"
    }
   ],
   "source": [
    "plt.plot(theta, ll)\n",
    "plt.axvline(theta[np.argmin(ll)], c='red', linestyle='--', label='{:.2f}'.format(theta[np.argmin(ll)]))\n",
    "plt.legend()\n",
    "plt.show()"
   ]
  },
  {
   "cell_type": "code",
   "execution_count": 195,
   "id": "2c178d95",
   "metadata": {},
   "outputs": [],
   "source": [
    "theta_0 = 0.5"
   ]
  },
  {
   "cell_type": "code",
   "execution_count": 196,
   "id": "b0d20a63",
   "metadata": {},
   "outputs": [],
   "source": [
    "bnds = ((0.01, 0.99),)"
   ]
  },
  {
   "cell_type": "code",
   "execution_count": 197,
   "id": "85ca0782",
   "metadata": {},
   "outputs": [
    {
     "name": "stdout",
     "output_type": "stream",
     "text": [
      "RUNNING THE L-BFGS-B CODE\n",
      "\n",
      "           * * *\n",
      "\n",
      "Machine precision = 2.220D-16\n",
      " N =            1     M =           10\n",
      "\n",
      "At X0         0 variables are exactly at the bounds\n",
      "\n",
      "At iterate    0    f=  6.93147D+00    |proj g|=  4.90000D-01\n",
      "\n",
      "At iterate    1    f=  5.85834D+00    |proj g|=  4.16667D-01\n",
      "\n",
      "At iterate    2    f=  3.39633D+00    |proj g|=  9.33424D-01\n",
      "\n",
      "At iterate    3    f=  3.25180D+00    |proj g|=  9.42204D-02\n",
      "\n",
      "At iterate    4    f=  3.25099D+00    |proj g|=  9.17124D-02\n",
      "\n",
      "At iterate    5    f=  3.25083D+00    |proj g|=  7.08820D-03\n",
      "\n",
      "At iterate    6    f=  3.25083D+00    |proj g|=  1.07736D-04\n",
      "\n",
      "           * * *\n",
      "\n",
      "Tit   = total number of iterations\n",
      "Tnf   = total number of function evaluations\n",
      "Tnint = total number of segments explored during Cauchy searches\n",
      "Skip  = number of BFGS updates skipped\n",
      "Nact  = number of active bounds at final generalized Cauchy point\n",
      "Projg = norm of the final projected gradient\n",
      "F     = final function value\n",
      "\n",
      "           * * *\n",
      "\n",
      "   N    Tit     Tnf  Tnint  Skip  Nact     Projg        F\n",
      "    1      6      9      6     0     0   1.077D-04   3.251D+00\n",
      "  F =   3.2508297339661438     \n",
      "\n",
      "CONVERGENCE: REL_REDUCTION_OF_F_<=_FACTR*EPSMCH             \n"
     ]
    }
   ],
   "source": [
    "result = optimize.minimize(neg_log_bernoulli, x0=theta_0, args=(x_rain), bounds=bnds, options={'ftol' : 1e-6, \"disp\":True})"
   ]
  },
  {
   "cell_type": "code",
   "execution_count": 198,
   "id": "a755987b",
   "metadata": {},
   "outputs": [
    {
     "data": {
      "text/plain": [
       "      fun: 3.250829733966144\n",
       " hess_inv: <1x1 LbfgsInvHessProduct with dtype=float64>\n",
       "      jac: array([0.00010774])\n",
       "  message: 'CONVERGENCE: REL_REDUCTION_OF_F_<=_FACTR*EPSMCH'\n",
       "     nfev: 18\n",
       "      nit: 6\n",
       "     njev: 9\n",
       "   status: 0\n",
       "  success: True\n",
       "        x: array([0.10000096])"
      ]
     },
     "execution_count": 198,
     "metadata": {},
     "output_type": "execute_result"
    }
   ],
   "source": [
    "result"
   ]
  },
  {
   "cell_type": "code",
   "execution_count": 199,
   "id": "2cde33a1",
   "metadata": {},
   "outputs": [
    {
     "data": {
      "text/plain": [
       "array([0.10000096])"
      ]
     },
     "execution_count": 199,
     "metadata": {},
     "output_type": "execute_result"
    }
   ],
   "source": [
    "result.x"
   ]
  },
  {
   "cell_type": "markdown",
   "id": "d1be174f",
   "metadata": {},
   "source": [
    "####  P(sprinkler | rain), # P(sprinkler | ¬rain)"
   ]
  },
  {
   "cell_type": "code",
   "execution_count": 200,
   "id": "c3f56437",
   "metadata": {},
   "outputs": [],
   "source": [
    "X_sprinkler_norain = X[X['rain'] == 0]['sprinkler'].values "
   ]
  },
  {
   "cell_type": "code",
   "execution_count": 201,
   "id": "d94432c6",
   "metadata": {},
   "outputs": [],
   "source": [
    "X_sprinkler_rain = X[X['rain'] == 1]['sprinkler'].values "
   ]
  },
  {
   "cell_type": "code",
   "execution_count": 202,
   "id": "d24f13bc",
   "metadata": {},
   "outputs": [],
   "source": [
    "ll_sprinkler_norain = []\n",
    "for t in theta:\n",
    "    ll_sprinkler_norain.append(neg_log_bernoulli(t, X_sprinkler_norain))\n",
    "    "
   ]
  },
  {
   "cell_type": "code",
   "execution_count": 203,
   "id": "05f593ef",
   "metadata": {},
   "outputs": [],
   "source": [
    "ll_sprinkler_rain = []\n",
    "for t in theta:\n",
    "    ll_sprinkler_rain.append(neg_log_bernoulli(t, X_sprinkler_rain))"
   ]
  },
  {
   "cell_type": "code",
   "execution_count": 204,
   "id": "c3f6e0c9",
   "metadata": {},
   "outputs": [
    {
     "data": {
      "image/png": "[encoded data removed]",
      "text/plain": [
       "<Figure size 640x480 with 1 Axes>"
      ]
     },
     "metadata": {},
     "output_type": "display_data"
    }
   ],
   "source": [
    "plt.plot(theta, ll_sprinkler_norain, label='P(sprinkler|norain)')\n",
    "plt.plot(theta, ll_sprinkler_rain, label='P(sprinkler|rain)')\n",
    "\n",
    "plt.legend()\n",
    "plt.show()"
   ]
  },
  {
   "cell_type": "markdown",
   "id": "8ed74428",
   "metadata": {},
   "source": [
    "####  P(D| theta) - All together"
   ]
  },
  {
   "cell_type": "code",
   "execution_count": 205,
   "id": "a8b5a21a",
   "metadata": {},
   "outputs": [],
   "source": [
    "def joint_nn_log_like(thetas, d_rain, d_sprinkler_norain, d_sprinkler_rain):\n",
    " \n",
    "    nll_rain = neg_log_bernoulli(thetas[0], d_rain)\n",
    "    print(nll_rain)\n",
    "    nll_sprinkler_norain = neg_log_bernoulli(thetas[1], d_sprinkler_norain)\n",
    "    print(nll_sprinkler_norain)\n",
    "    nll_sprinkler_rain = neg_log_bernoulli(thetas[2], d_sprinkler_rain)\n",
    "    print(nll_sprinkler_rain)\n",
    "    \n",
    "    return nll_rain + nll_sprinkler_norain + nll_sprinkler_rain"
   ]
  },
  {
   "cell_type": "code",
   "execution_count": 206,
   "id": "8fe5fda6",
   "metadata": {},
   "outputs": [
    {
     "name": "stdout",
     "output_type": "stream",
     "text": [
      "14.708084763221112\n",
      "7.539918372929094\n",
      "0.6931471805599453\n"
     ]
    },
    {
     "data": {
      "text/plain": [
       "22.94115031671015"
      ]
     },
     "execution_count": 206,
     "metadata": {},
     "output_type": "execute_result"
    }
   ],
   "source": [
    "joint_nn_log_like([0.8, 0.1, 0.5], x_rain, X_sprinkler_norain, X_sprinkler_rain)"
   ]
  },
  {
   "cell_type": "code",
   "execution_count": 207,
   "id": "239caa49",
   "metadata": {},
   "outputs": [],
   "source": [
    "bnds = ((0.01, 0.99),(0.01, 0.99),(0.01, 0.99))\n",
    "theta_0 = [0.5, 0.5, 0.5]\n"
   ]
  },
  {
   "cell_type": "code",
   "execution_count": 208,
   "id": "fd803cd0",
   "metadata": {
    "scrolled": false
   },
   "outputs": [
    {
     "name": "stdout",
     "output_type": "stream",
     "text": [
      "6.931471805599453\n",
      "6.238324625039508\n",
      "0.6931471805599453\n",
      "6.931471965599455\n",
      "6.238324625039508\n",
      "0.6931471805599453\n",
      "6.931471805599453\n",
      "6.23832468503951\n",
      "0.6931471805599453\n",
      "6.931471805599453\n",
      "6.238324625039508\n",
      "0.6931472005599456\n",
      "4.695623208669603\n",
      "13.87581257308528\n",
      "0.010050335853501442\n",
      "4.695622299579196\n",
      "13.87581257308528\n",
      "0.010050335853501442\n",
      "RUNNING THE L-BFGS-B CODE\n",
      "\n",
      "           * * *\n",
      "\n",
      "Machine precision = 2.220D-16\n",
      " N =            3     M =           10\n",
      "\n",
      "At X0         0 variables are exactly at the bounds\n",
      "4.695623208669603\n",
      "13.875809633692844\n",
      "0.010050335853501442\n",
      "4.695623208669603\n",
      "13.87581257308528\n",
      "0.010050345954511593\n",
      "4.0268502280679\n",
      "5.860754272467739\n",
      "0.2961807815112363\n",
      "4.026850310082473\n",
      "5.860754272467739\n",
      "0.2961807815112363\n",
      "4.0268502280679\n",
      "5.860754236121675\n",
      "0.2961807815112363\n",
      "4.0268502280679\n",
      "5.860754272467739\n",
      "0.2961807949583687\n",
      "4.695623208669603\n",
      "5.729017511261944\n",
      "0.1323594165434299\n",
      "4.695622299579196\n",
      "5.729017511261944\n",
      "0.1323594165434299\n",
      "4.695623208669603\n",
      "5.729017513031638\n",
      "0.1323594165434299\n",
      "4.695623208669603\n",
      "5.729017511261944\n",
      "0.13235942795861522\n",
      "3.2802291854679706\n",
      "5.752133671315857\n",
      "0.2052212223919743\n",
      "3.280229207992002\n",
      "5.752133671315857\n",
      "0.2052212223919743\n",
      "3.2802291854679706\n",
      "5.752133656977397\n",
      "0.2052212223919743\n",
      "3.2802291854679706\n",
      "5.752133671315857\n",
      "0.20522123466994088\n",
      "3.3828836841841667\n",
      "5.73260366800772\n",
      "0.11562947696981098\n",
      "3.38288360818385\n",
      "5.73260366800772\n",
      "0.11562947696981098\n",
      "3.3828836841841667\n",
      "5.732603662248352\n",
      "0.11562947696981098\n",
      "3.3828836841841667\n",
      "5.73260366800772\n",
      "0.11562948819560956\n",
      "3.2510413515280323\n",
      "5.742308863534405\n",
      "0.1684276580388207\n",
      "\n",
      "At iterate    0    f=  1.38629D+01    |proj g|=  4.90000D-01\n",
      "\n",
      "At iterate    1    f=  1.01838D+01    |proj g|=  7.33653D-01\n",
      "\n",
      "At iterate    2    f=  9.23758D+00    |proj g|=  6.90116D-01\n",
      "3.251041349334099\n",
      "5.742308863534405\n",
      "0.1684276580388207\n",
      "3.2510413515280323\n",
      "5.742308852703035\n",
      "0.1684276580388207\n",
      "3.2510413515280323\n",
      "5.742308863534405\n",
      "0.16842766987324687\n",
      "3.2627017950426707\n",
      "5.72913383347362\n",
      "0.12249760578124934\n",
      "3.2627017772552955\n",
      "5.72913383347362\n",
      "0.12249760578124934\n",
      "3.2627017950426707\n",
      "5.729133831438145\n",
      "0.12249760578124934\n",
      "3.2627017950426707\n",
      "5.72913383347362\n",
      "0.12249761708441353\n",
      "3.2698756805950544\n",
      "5.733395616910586\n",
      "0.036739416144763073\n",
      "3.2698756574794006\n",
      "5.733395616910586\n",
      "0.036739416144763073\n",
      "3.2698756805950544\n",
      "5.733395623035883\n",
      "0.036739416144763073\n",
      "3.2698756805950544\n",
      "5.733395616910586\n",
      "0.036739426518989635\n",
      "3.2522214080033294\n",
      "5.732549072037834\n",
      "0.010050335853501442\n",
      "3.25222140227201\n",
      "5.732549072037834\n",
      "0.010050335853501442\n",
      "3.2522214080033294\n",
      "5.732549077599918\n",
      "0.010050335853501442\n",
      "3.2522214080033294\n",
      "5.732549072037834\n",
      "0.010050345954511593\n",
      "3.2508357837386743\n",
      "5.728688773405567\n",
      "0.010050335853501442\n",
      "3.2508357833712997\n",
      "5.728688773405567\n",
      "0.010050335853501442\n",
      "3.2508357837386743\n",
      "5.728688774108764\n",
      "0.010050335853501442\n",
      "3.2508357837386743\n",
      "5.728688773405567\n",
      "0.010050345954511593\n",
      "3.250829846320838\n",
      "5.72862753395361\n",
      "0.010050335853501442\n",
      "3.2508298463708085\n",
      "5.72862753395361\n",
      "0.010050335853501442\n",
      "3.250829846320838\n",
      "5.728627533966114\n",
      "0.010050335853501442\n",
      "3.250829846320838\n",
      "5.72862753395361\n",
      "0.010050345954511593\n",
      "3.250829741355379\n",
      "5.728627515597993\n",
      "0.010050335853501442\n",
      "3.250829741368243\n",
      "5.728627515597993\n",
      "0.010050335853501442\n",
      "3.250829741355379\n",
      "5.7286275156007616\n",
      "0.010050335853501442\n",
      "3.250829741355379\n",
      "5.728627515597993\n",
      "0.010050345954511593\n",
      "\n",
      "At iterate    3    f=  9.16178D+00    |proj g|=  6.82303D-01\n",
      "\n",
      "At iterate    4    f=  9.11433D+00    |proj g|=  9.03984D-01\n",
      "\n",
      "At iterate    5    f=  9.04001D+00    |proj g|=  9.07498D-01\n",
      "  Positive dir derivative in projection \n",
      "  Using the backtracking step \n",
      "\n",
      "At iterate    6    f=  8.99482D+00    |proj g|=  5.73132D-01\n",
      "\n",
      "At iterate    7    f=  8.98957D+00    |proj g|=  7.03196D-02\n",
      "\n",
      "At iterate    8    f=  8.98951D+00    |proj g|=  4.99725D-03\n",
      "\n",
      "At iterate    9    f=  8.98951D+00    |proj g|=  1.28644D-03\n",
      "\n",
      "           * * *\n",
      "\n",
      "Tit   = total number of iterations\n",
      "Tnf   = total number of function evaluations\n",
      "Tnint = total number of segments explored during Cauchy searches\n",
      "Skip  = number of BFGS updates skipped\n",
      "Nact  = number of active bounds at final generalized Cauchy point\n",
      "Projg = norm of the final projected gradient\n",
      "F     = final function value\n",
      "\n",
      "           * * *\n",
      "\n",
      "   N    Tit     Tnf  Tnint  Skip  Nact     Projg        F\n",
      "    3      9     13     12     0     1   1.286D-03   8.990D+00\n",
      "  F =   8.9895075928068735     \n",
      "\n",
      "CONVERGENCE: REL_REDUCTION_OF_F_<=_FACTR*EPSMCH             \n"
     ]
    }
   ],
   "source": [
    "result = optimize.minimize(\n",
    "    joint_nn_log_like, \n",
    "    x0=theta_0, \n",
    "    args=(x_rain, X_sprinkler_norain, X_sprinkler_rain), \n",
    "    bounds=bnds, \n",
    "    options={'ftol' : 1e-6, \"disp\":True}\n",
    ")"
   ]
  },
  {
   "cell_type": "code",
   "execution_count": 209,
   "id": "1fbbfed3",
   "metadata": {},
   "outputs": [
    {
     "data": {
      "text/plain": [
       "array([0.10001157, 0.33334016, 0.01      ])"
      ]
     },
     "execution_count": 209,
     "metadata": {},
     "output_type": "execute_result"
    }
   ],
   "source": [
    "result.x"
   ]
  },
  {
   "cell_type": "markdown",
   "id": "160c24a2",
   "metadata": {},
   "source": [
    "# Numerical Solution - MAP"
   ]
  },
  {
   "cell_type": "code",
   "execution_count": 148,
   "id": "b027e854",
   "metadata": {},
   "outputs": [],
   "source": [
    "from scipy.stats import beta"
   ]
  },
  {
   "cell_type": "code",
   "execution_count": 149,
   "id": "f7cbfb9f",
   "metadata": {},
   "outputs": [],
   "source": [
    "prior_rain = np.array([1, 1])\n",
    "\n",
    "# P(sprinkler | rain)\n",
    "prior_sprinkler_rain = np.array([1, 1])\n",
    "# P(sprinkler | ¬rain)\n",
    "prior_sprinkler_norain = np.array([1, 1])\n",
    "\n",
    "\n",
    "# p(grass is wet | ¬rain & ¬sprinkler)\n",
    "prior_grass_norain_nosprinkler = np.array([1,1])\n",
    "# p(grass is wet | rain & ¬sprinkler)\n",
    "prior_grass_rain_nosprinkler = np.array([1,1])\n",
    "# p(grass is wet | ¬rain & sprinkler)\n",
    "prior_grass_rain_norain_sprinkler = np.array([1,1])\n",
    "# p(grass is wet | rain & sprinlker)\n",
    "prior_grass_rain_sprinkler = np.array([1,1])"
   ]
  },
  {
   "cell_type": "code",
   "execution_count": 150,
   "id": "07bed244",
   "metadata": {},
   "outputs": [],
   "source": [
    "def joint_posterior(thetas, d_rain, d_sprinkler_norain, d_sprinkler_rain):\n",
    " \n",
    "    nll_rain = neg_log_bernoulli(thetas[0], d_rain) + beta.logpdf(thetas[0], prior_rain[0], prior_rain[1])\n",
    "    print(nll_rain)\n",
    "    nll_sprinkler_norain = neg_log_bernoulli(thetas[1], d_sprinkler_norain) + beta.logpdf(thetas[1], prior_sprinkler_norain[0], prior_sprinkler_norain[1])\n",
    "    print(nll_sprinkler_norain)\n",
    "    nll_sprinkler_rain = neg_log_bernoulli(thetas[2], d_sprinkler_rain) + + beta.logpdf(thetas[2], prior_sprinkler_rain[0], prior_sprinkler_rain[1])\n",
    "    print(nll_sprinkler_rain)\n",
    "    \n",
    "    return nll_rain + nll_sprinkler_norain + nll_sprinkler_rain"
   ]
  },
  {
   "cell_type": "code",
   "execution_count": 151,
   "id": "47ef4f08",
   "metadata": {
    "scrolled": false
   },
   "outputs": [
    {
     "name": "stdout",
     "output_type": "stream",
     "text": [
      "6.931471805599453\n",
      "4.852030263919617\n",
      "2.0794415416798357\n",
      "6.931471885599455\n",
      "4.852030263919617\n",
      "2.0794415416798357\n",
      "6.931471805599453\n",
      "4.852030243919618\n",
      "2.0794415416798357\n",
      "6.931471805599453\n",
      "4.852030263919617\n",
      "2.0794416016798367\n",
      "13.885862908938782\n",
      "RUNNING THE L-BFGS-B CODE\n",
      "\n",
      "           * * *\n",
      "\n",
      "Machine precision = 2.220D-16\n",
      "13.855711901378278\n",
      "0.030151007560504324\n",
      "13.885859979647355\n",
      "13.855711901378278\n",
      "0.030151007560504324\n",
      "13.885862908938782\n",
      "13.855708941783803\n",
      "0.030151007560504324\n",
      "13.885862908938782\n",
      "13.855711901378278\n",
      "0.03015103786353478\n",
      "6.10879934771129\n",
      "5.027754928496172\n",
      "1.0810444192151178\n",
      "6.108799348927537\n",
      "5.027754928496172\n",
      "1.0810444192151178\n",
      "6.10879934771129\n",
      "5.027754970294784\n",
      "1.0810444192151178\n",
      "6.10879934771129\n",
      "5.027754928496172\n",
      "1.081044462229973\n",
      "6.143270888220267\n",
      "4.800027464748718\n",
      "0.4312665910294789\n",
      "6.1432708690445645\n",
      "4.800027464748718\n",
      "0.4312665910294789\n",
      "6.143270888220267\n",
      "4.800027475553404\n",
      "0.4312665910294789\n",
      "6.143270888220267\n",
      "4.800027464748718\n",
      "0.4312666256675333\n",
      "6.10881738698808\n",
      "4.7812940434453735\n",
      " N =            3     M =           10\n",
      "\n",
      "At X0         0 variables are exactly at the bounds\n",
      "\n",
      "At iterate    0    f=  1.38629D+01    |proj g|=  4.90000D-01\n",
      "\n",
      "At iterate    1    f=  1.22176D+01    |proj g|=  6.87433D-01\n",
      "\n",
      "At iterate    2    f=  1.13746D+01    |proj g|=  7.27154D-01\n",
      "0.030151007560504324\n",
      "6.108817388272357\n",
      "4.7812940434453735\n",
      "0.030151007560504324\n",
      "6.10881738698808\n",
      "4.781294041137385\n",
      "0.030151007560504324\n",
      "6.10881738698808\n",
      "4.7812940434453735\n",
      "0.03015103786353478\n",
      "6.108643253318686\n",
      "4.780446019364054\n",
      "0.030151007560504324\n",
      "6.1086432533657655\n",
      "4.780446019364054\n",
      "0.030151007560504324\n",
      "6.108643253318686\n",
      "4.780446018650297\n",
      "0.030151007560504324\n",
      "6.108643253318686\n",
      "4.780446019364054\n",
      "0.03015103786353478\n",
      "6.108643631484361\n",
      "4.780356915228948\n",
      "0.030151007560504324\n",
      "6.108643631408068\n",
      "\n",
      "At iterate    3    f=  1.09203D+01    |proj g|=  2.30799D-01\n",
      "\n",
      "At iterate    4    f=  1.09192D+01    |proj g|=  7.13756D-02\n",
      "4.780356915228948\n",
      "0.030151007560504324\n",
      "6.108643631484361\n",
      "4.780356915196666\n",
      "0.030151007560504324\n",
      "6.108643631484361\n",
      "4.780356915228948\n",
      "0.03015103786353478\n",
      "6.108643035517948\n",
      "4.78035673317838\n",
      "0.030151007560504324\n",
      "6.108643035506012\n",
      "4.78035673317838\n",
      "0.030151007560504324\n",
      "6.108643035517948\n",
      "4.780356733177126\n",
      "0.030151007560504324\n",
      "6.108643035517948\n",
      "4.78035673317838\n",
      "0.03015103786353478\n",
      "\n",
      "At iterate    5    f=  1.09192D+01    |proj g|=  7.62927D-03\n",
      "\n",
      "At iterate    6    f=  1.09192D+01    |proj g|=  1.19353D-03\n",
      "\n",
      "           * * *\n",
      "\n",
      "Tit   = total number of iterations\n",
      "Tnf   = total number of function evaluations\n",
      "Tnint = total number of segments explored during Cauchy searches\n",
      "Skip  = number of BFGS updates skipped\n",
      "Nact  = number of active bounds at final generalized Cauchy point\n",
      "Projg = norm of the final projected gradient\n",
      "F     = final function value\n",
      "\n",
      "           * * *\n",
      "\n",
      "   N    Tit     Tnf  Tnint  Skip  Nact     Projg        F\n",
      "    3      6      8      9     0     1   1.194D-03   1.092D+01\n",
      "  F =   10.919150776256833     \n",
      "\n",
      "CONVERGENCE: REL_REDUCTION_OF_F_<=_FACTR*EPSMCH             \n"
     ]
    }
   ],
   "source": [
    "result = optimize.minimize(\n",
    "    joint_posterior, \n",
    "    x0=theta_0, \n",
    "    args=(x_rain, X_sprinkler_norain, X_sprinkler_rain), \n",
    "    bounds=bnds, \n",
    "    options={'ftol' : 1e-6, \"disp\":True}\n",
    ")"
   ]
  },
  {
   "cell_type": "code",
   "execution_count": 152,
   "id": "24e902e3",
   "metadata": {},
   "outputs": [
    {
     "data": {
      "text/plain": [
       "array([0.29997493, 0.57142418, 0.01      ])"
      ]
     },
     "execution_count": 152,
     "metadata": {},
     "output_type": "execute_result"
    }
   ],
   "source": [
    "result.x"
   ]
  },
  {
   "cell_type": "code",
   "execution_count": null,
   "id": "e83f7a7d",
   "metadata": {},
   "outputs": [],
   "source": []
  },
  {
   "cell_type": "code",
   "execution_count": null,
   "id": "9fdc9f2e",
   "metadata": {},
   "outputs": [],
   "source": []
  },
  {
   "cell_type": "code",
   "execution_count": null,
   "id": "6cce775a",
   "metadata": {},
   "outputs": [],
   "source": []
  }
 ],
 "metadata": {
  "kernelspec": {
   "display_name": "Python 3 (ipykernel)",
   "language": "python",
   "name": "python3"
  },
  "language_info": {
   "codemirror_mode": {
    "name": "ipython",
    "version": 3
   },
   "file_extension": ".py",
   "mimetype": "text/x-python",
   "name": "python",
   "nbconvert_exporter": "python",
   "pygments_lexer": "ipython3",
   "version": "3.9.13"
  }
 },
 "nbformat": 4,
 "nbformat_minor": 5
}
